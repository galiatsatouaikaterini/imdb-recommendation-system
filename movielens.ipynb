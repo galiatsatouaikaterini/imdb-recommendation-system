{
 "cells": [
  {
   "cell_type": "code",
   "execution_count": 94,
   "id": "48bf933e-b9c0-407d-95ff-195c93b42ea9",
   "metadata": {},
   "outputs": [],
   "source": [
    "import pandas as pd\n",
    "import numpy as np"
   ]
  },
  {
   "cell_type": "code",
   "execution_count": 95,
   "id": "dacbf5b2-cd4c-4dff-9d98-1311d638464b",
   "metadata": {},
   "outputs": [],
   "source": [
    "movie = pd.read_csv('movie.csv')\n",
    "rating = pd.read_csv('rating.csv')"
   ]
  },
  {
   "cell_type": "code",
   "execution_count": 3,
   "id": "4907baff-31fe-4962-bbb5-6b16967e4dfa",
   "metadata": {},
   "outputs": [
    {
     "data": {
      "text/plain": [
       "(27278, 3)"
      ]
     },
     "execution_count": 3,
     "metadata": {},
     "output_type": "execute_result"
    }
   ],
   "source": [
    "movie.shape"
   ]
  },
  {
   "cell_type": "code",
   "execution_count": 59,
   "id": "87024d05-47d1-4906-955a-92e8f5f6517c",
   "metadata": {},
   "outputs": [
    {
     "data": {
      "text/html": [
       "<div>\n",
       "<style scoped>\n",
       "    .dataframe tbody tr th:only-of-type {\n",
       "        vertical-align: middle;\n",
       "    }\n",
       "\n",
       "    .dataframe tbody tr th {\n",
       "        vertical-align: top;\n",
       "    }\n",
       "\n",
       "    .dataframe thead th {\n",
       "        text-align: right;\n",
       "    }\n",
       "</style>\n",
       "<table border=\"1\" class=\"dataframe\">\n",
       "  <thead>\n",
       "    <tr style=\"text-align: right;\">\n",
       "      <th></th>\n",
       "      <th>movieId</th>\n",
       "      <th>title</th>\n",
       "      <th>genres</th>\n",
       "    </tr>\n",
       "  </thead>\n",
       "  <tbody>\n",
       "    <tr>\n",
       "      <th>0</th>\n",
       "      <td>1</td>\n",
       "      <td>Toy Story (1995)</td>\n",
       "      <td>Adventure|Animation|Children|Comedy|Fantasy</td>\n",
       "    </tr>\n",
       "    <tr>\n",
       "      <th>1</th>\n",
       "      <td>2</td>\n",
       "      <td>Jumanji (1995)</td>\n",
       "      <td>Adventure|Children|Fantasy</td>\n",
       "    </tr>\n",
       "    <tr>\n",
       "      <th>2</th>\n",
       "      <td>3</td>\n",
       "      <td>Grumpier Old Men (1995)</td>\n",
       "      <td>Comedy|Romance</td>\n",
       "    </tr>\n",
       "    <tr>\n",
       "      <th>3</th>\n",
       "      <td>4</td>\n",
       "      <td>Waiting to Exhale (1995)</td>\n",
       "      <td>Comedy|Drama|Romance</td>\n",
       "    </tr>\n",
       "    <tr>\n",
       "      <th>4</th>\n",
       "      <td>5</td>\n",
       "      <td>Father of the Bride Part II (1995)</td>\n",
       "      <td>Comedy</td>\n",
       "    </tr>\n",
       "  </tbody>\n",
       "</table>\n",
       "</div>"
      ],
      "text/plain": [
       "   movieId                               title  \\\n",
       "0        1                    Toy Story (1995)   \n",
       "1        2                      Jumanji (1995)   \n",
       "2        3             Grumpier Old Men (1995)   \n",
       "3        4            Waiting to Exhale (1995)   \n",
       "4        5  Father of the Bride Part II (1995)   \n",
       "\n",
       "                                        genres  \n",
       "0  Adventure|Animation|Children|Comedy|Fantasy  \n",
       "1                   Adventure|Children|Fantasy  \n",
       "2                               Comedy|Romance  \n",
       "3                         Comedy|Drama|Romance  \n",
       "4                                       Comedy  "
      ]
     },
     "execution_count": 59,
     "metadata": {},
     "output_type": "execute_result"
    }
   ],
   "source": [
    "movie.head()"
   ]
  },
  {
   "cell_type": "code",
   "execution_count": 4,
   "id": "68b10eac-4fd6-461b-875d-66ad3656652c",
   "metadata": {},
   "outputs": [
    {
     "data": {
      "text/plain": [
       "(20000263, 4)"
      ]
     },
     "execution_count": 4,
     "metadata": {},
     "output_type": "execute_result"
    }
   ],
   "source": [
    "rating.shape"
   ]
  },
  {
   "cell_type": "code",
   "execution_count": 5,
   "id": "9268a159-e4a6-40d1-8243-2156ccb7b7b5",
   "metadata": {},
   "outputs": [
    {
     "data": {
      "text/html": [
       "<div>\n",
       "<style scoped>\n",
       "    .dataframe tbody tr th:only-of-type {\n",
       "        vertical-align: middle;\n",
       "    }\n",
       "\n",
       "    .dataframe tbody tr th {\n",
       "        vertical-align: top;\n",
       "    }\n",
       "\n",
       "    .dataframe thead th {\n",
       "        text-align: right;\n",
       "    }\n",
       "</style>\n",
       "<table border=\"1\" class=\"dataframe\">\n",
       "  <thead>\n",
       "    <tr style=\"text-align: right;\">\n",
       "      <th></th>\n",
       "      <th>userId</th>\n",
       "      <th>movieId</th>\n",
       "      <th>rating</th>\n",
       "      <th>timestamp</th>\n",
       "    </tr>\n",
       "  </thead>\n",
       "  <tbody>\n",
       "    <tr>\n",
       "      <th>0</th>\n",
       "      <td>1</td>\n",
       "      <td>2</td>\n",
       "      <td>3.5</td>\n",
       "      <td>2005-04-02 23:53:47</td>\n",
       "    </tr>\n",
       "    <tr>\n",
       "      <th>1</th>\n",
       "      <td>1</td>\n",
       "      <td>29</td>\n",
       "      <td>3.5</td>\n",
       "      <td>2005-04-02 23:31:16</td>\n",
       "    </tr>\n",
       "    <tr>\n",
       "      <th>2</th>\n",
       "      <td>1</td>\n",
       "      <td>32</td>\n",
       "      <td>3.5</td>\n",
       "      <td>2005-04-02 23:33:39</td>\n",
       "    </tr>\n",
       "    <tr>\n",
       "      <th>3</th>\n",
       "      <td>1</td>\n",
       "      <td>47</td>\n",
       "      <td>3.5</td>\n",
       "      <td>2005-04-02 23:32:07</td>\n",
       "    </tr>\n",
       "    <tr>\n",
       "      <th>4</th>\n",
       "      <td>1</td>\n",
       "      <td>50</td>\n",
       "      <td>3.5</td>\n",
       "      <td>2005-04-02 23:29:40</td>\n",
       "    </tr>\n",
       "  </tbody>\n",
       "</table>\n",
       "</div>"
      ],
      "text/plain": [
       "   userId  movieId  rating            timestamp\n",
       "0       1        2     3.5  2005-04-02 23:53:47\n",
       "1       1       29     3.5  2005-04-02 23:31:16\n",
       "2       1       32     3.5  2005-04-02 23:33:39\n",
       "3       1       47     3.5  2005-04-02 23:32:07\n",
       "4       1       50     3.5  2005-04-02 23:29:40"
      ]
     },
     "execution_count": 5,
     "metadata": {},
     "output_type": "execute_result"
    }
   ],
   "source": [
    "rating.head()"
   ]
  },
  {
   "cell_type": "code",
   "execution_count": 7,
   "id": "9c6ad1e8-a004-4f9f-afce-dea20339a348",
   "metadata": {},
   "outputs": [
    {
     "data": {
      "text/plain": [
       "138493"
      ]
     },
     "execution_count": 7,
     "metadata": {},
     "output_type": "execute_result"
    }
   ],
   "source": [
    "rating['userId'].nunique()"
   ]
  },
  {
   "cell_type": "code",
   "execution_count": 96,
   "id": "70db411f-9213-4227-8a8e-df12fdcdf1de",
   "metadata": {},
   "outputs": [
    {
     "data": {
      "text/plain": [
       "(6579416, 4)"
      ]
     },
     "execution_count": 96,
     "metadata": {},
     "output_type": "execute_result"
    }
   ],
   "source": [
    "# drop users with less than 500 movie ratings\n",
    "rating_copy = rating.copy()\n",
    "counts = rating_copy['userId'].value_counts()\n",
    "\n",
    "val_drop = counts[(counts < 500)].index\n",
    "\n",
    "df_filtered = test[~test['userId'].isin(val_drop)]\n",
    "df_filtered.shape"
   ]
  },
  {
   "cell_type": "code",
   "execution_count": 97,
   "id": "8cf2972d-dabb-4573-861b-eebf423cdeb0",
   "metadata": {},
   "outputs": [
    {
     "data": {
      "text/plain": [
       "userId\n",
       "118205    9254\n",
       "8405      7515\n",
       "82418     5646\n",
       "121535    5520\n",
       "125794    5491\n",
       "          ... \n",
       "45811      500\n",
       "32844      500\n",
       "63958      500\n",
       "63094      500\n",
       "134897     500\n",
       "Name: count, Length: 7491, dtype: int64"
      ]
     },
     "execution_count": 97,
     "metadata": {},
     "output_type": "execute_result"
    }
   ],
   "source": [
    "df_filtered['userId'].value_counts()"
   ]
  },
  {
   "cell_type": "code",
   "execution_count": 98,
   "id": "1d5db6df-1b42-413b-b0c5-8c0ab43d43c6",
   "metadata": {},
   "outputs": [
    {
     "data": {
      "text/plain": [
       "(6524688, 4)"
      ]
     },
     "execution_count": 98,
     "metadata": {},
     "output_type": "execute_result"
    }
   ],
   "source": [
    "# drop users with over 5000 movie ratings\n",
    "counts2 = df_filtered['userId'].value_counts()\n",
    "val_drop2 = counts2[(counts2 > 5000)].index\n",
    "\n",
    "df_filtered = df_filtered[~df_filtered['userId'].isin(val_drop2)]\n",
    "df_filtered.shape"
   ]
  },
  {
   "cell_type": "code",
   "execution_count": 99,
   "id": "a6b654dc-72e2-47f5-996a-bdf8cae32f61",
   "metadata": {},
   "outputs": [
    {
     "data": {
      "text/plain": [
       "(1627684, 4)"
      ]
     },
     "execution_count": 99,
     "metadata": {},
     "output_type": "execute_result"
    }
   ],
   "source": [
    "# drop 1/4 of users randomly\n",
    "np.random.seed(0)\n",
    "\n",
    "# Get a list of unique users\n",
    "unique_users = df_filtered['userId'].unique()\n",
    "\n",
    "# Randomly select half of the users\n",
    "users_to_keep = np.random.choice(unique_users, size=int(len(unique_users)/4), replace=False)\n",
    "\n",
    "# Keep only the randomly selected users in the DataFrame\n",
    "df_filtered = df_filtered[df_filtered['userId'].isin(users_to_keep)]\n",
    "\n",
    "df_filtered.shape"
   ]
  },
  {
   "cell_type": "code",
   "execution_count": 100,
   "id": "0cb040ee-7592-483c-9bf0-0f0662aef124",
   "metadata": {},
   "outputs": [
    {
     "data": {
      "text/plain": [
       "(1259828, 4)"
      ]
     },
     "execution_count": 100,
     "metadata": {},
     "output_type": "execute_result"
    }
   ],
   "source": [
    "# drop movies with less than or 150 ratings\n",
    "count_movies = df_filtered['movieId'].value_counts()\n",
    "\n",
    "values_to_drop = count_movies[count_movies <= 150].index\n",
    "\n",
    "df_filtered = df_filtered[~df_filtered['movieId'].isin(values_to_drop)]\n",
    "\n",
    "df_filtered.shape"
   ]
  },
  {
   "cell_type": "code",
   "execution_count": 101,
   "id": "9a1a4858-b3f1-49ac-bf31-f99df57ea1a1",
   "metadata": {},
   "outputs": [
    {
     "data": {
      "text/plain": [
       "(411184, 4)"
      ]
     },
     "execution_count": 101,
     "metadata": {},
     "output_type": "execute_result"
    }
   ],
   "source": [
    "# drop 1/3 of the movies randomly\n",
    "np.random.seed(0)\n",
    "\n",
    "# Get a list of unique users\n",
    "unique_movies = df_filtered['movieId'].unique()\n",
    "\n",
    "# Randomly select half of the users\n",
    "movies_to_keep = np.random.choice(unique_movies, size=int(len(unique_movies)/3), replace=False)\n",
    "\n",
    "# Keep only the randomly selected users in the DataFrame\n",
    "df_filtered = df_filtered[df_filtered['movieId'].isin(movies_to_keep)]\n",
    "\n",
    "df_filtered.shape"
   ]
  },
  {
   "cell_type": "code",
   "execution_count": 102,
   "id": "e3abd007-f275-43d2-b576-e509c4645b7f",
   "metadata": {},
   "outputs": [
    {
     "data": {
      "text/html": [
       "<div>\n",
       "<style scoped>\n",
       "    .dataframe tbody tr th:only-of-type {\n",
       "        vertical-align: middle;\n",
       "    }\n",
       "\n",
       "    .dataframe tbody tr th {\n",
       "        vertical-align: top;\n",
       "    }\n",
       "\n",
       "    .dataframe thead th {\n",
       "        text-align: right;\n",
       "    }\n",
       "</style>\n",
       "<table border=\"1\" class=\"dataframe\">\n",
       "  <thead>\n",
       "    <tr style=\"text-align: right;\">\n",
       "      <th></th>\n",
       "      <th>userId</th>\n",
       "      <th>movieId</th>\n",
       "      <th>rating</th>\n",
       "      <th>timestamp</th>\n",
       "    </tr>\n",
       "  </thead>\n",
       "  <tbody>\n",
       "    <tr>\n",
       "      <th>2538</th>\n",
       "      <td>24</td>\n",
       "      <td>5</td>\n",
       "      <td>2.0</td>\n",
       "      <td>2001-07-04 08:00:49</td>\n",
       "    </tr>\n",
       "    <tr>\n",
       "      <th>2541</th>\n",
       "      <td>24</td>\n",
       "      <td>10</td>\n",
       "      <td>3.0</td>\n",
       "      <td>2001-07-14 07:57:24</td>\n",
       "    </tr>\n",
       "    <tr>\n",
       "      <th>2543</th>\n",
       "      <td>24</td>\n",
       "      <td>18</td>\n",
       "      <td>5.0</td>\n",
       "      <td>2001-07-04 07:53:09</td>\n",
       "    </tr>\n",
       "    <tr>\n",
       "      <th>2546</th>\n",
       "      <td>24</td>\n",
       "      <td>25</td>\n",
       "      <td>5.0</td>\n",
       "      <td>2001-07-04 07:02:53</td>\n",
       "    </tr>\n",
       "    <tr>\n",
       "      <th>2547</th>\n",
       "      <td>24</td>\n",
       "      <td>32</td>\n",
       "      <td>4.0</td>\n",
       "      <td>2001-07-01 07:25:04</td>\n",
       "    </tr>\n",
       "  </tbody>\n",
       "</table>\n",
       "</div>"
      ],
      "text/plain": [
       "      userId  movieId  rating            timestamp\n",
       "2538      24        5     2.0  2001-07-04 08:00:49\n",
       "2541      24       10     3.0  2001-07-14 07:57:24\n",
       "2543      24       18     5.0  2001-07-04 07:53:09\n",
       "2546      24       25     5.0  2001-07-04 07:02:53\n",
       "2547      24       32     4.0  2001-07-01 07:25:04"
      ]
     },
     "execution_count": 102,
     "metadata": {},
     "output_type": "execute_result"
    }
   ],
   "source": [
    "df_filtered.head()"
   ]
  },
  {
   "cell_type": "code",
   "execution_count": 103,
   "id": "9eb5b047-b566-4e83-aa41-3b04ae57454a",
   "metadata": {},
   "outputs": [
    {
     "data": {
      "text/plain": [
       "(913, 3)"
      ]
     },
     "execution_count": 103,
     "metadata": {},
     "output_type": "execute_result"
    }
   ],
   "source": [
    "# drop movies that aren't used anymore\n",
    "df_movies_filtered = movie[movie['movieId'].isin(df_filtered['movieId'])]\n",
    "df_movies_filtered.shape"
   ]
  },
  {
   "cell_type": "code",
   "execution_count": 106,
   "id": "49978fe0-c556-4fa9-bb57-83fa23e95eab",
   "metadata": {},
   "outputs": [
    {
     "name": "stdout",
     "output_type": "stream",
     "text": [
      "1870  users in dataset\n",
      "913  movies in dataset\n"
     ]
    }
   ],
   "source": [
    "# print different users and movies\n",
    "print(df_filtered['userId'].nunique(), \" users in dataset\")\n",
    "print(df_filtered['movieId'].nunique(), \" movies in dataset\")"
   ]
  },
  {
   "cell_type": "code",
   "execution_count": 107,
   "id": "de3ecfab-5be0-40f5-8951-fc551c4fcf7d",
   "metadata": {},
   "outputs": [],
   "source": [
    "# save datasets\n",
    "df_filtered5.to_csv('rating_small.csv', index=False)\n",
    "df_movies_filtered.to_csv('movie_small.csv', index=False)"
   ]
  }
 ],
 "metadata": {
  "kernelspec": {
   "display_name": "Python 3 (ipykernel)",
   "language": "python",
   "name": "python3"
  },
  "language_info": {
   "codemirror_mode": {
    "name": "ipython",
    "version": 3
   },
   "file_extension": ".py",
   "mimetype": "text/x-python",
   "name": "python",
   "nbconvert_exporter": "python",
   "pygments_lexer": "ipython3",
   "version": "3.10.7"
  }
 },
 "nbformat": 4,
 "nbformat_minor": 5
}
