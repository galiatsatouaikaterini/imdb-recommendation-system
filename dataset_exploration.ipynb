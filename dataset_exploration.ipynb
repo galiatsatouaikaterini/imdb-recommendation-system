{
 "cells": [
  {
   "cell_type": "code",
   "execution_count": 1,
   "id": "0639cb76-ad3a-4ea4-8515-baeae719c334",
   "metadata": {},
   "outputs": [],
   "source": [
    "import pandas as pd"
   ]
  },
  {
   "cell_type": "code",
   "execution_count": 1,
   "id": "231c1097-3a4e-4d5a-87b3-0d2ed528e9e5",
   "metadata": {},
   "outputs": [
    {
     "data": {
      "text/plain": [
       "(8890417, 10)"
      ]
     },
     "execution_count": 1,
     "metadata": {},
     "output_type": "execute_result"
    }
   ],
   "source": [
    "imdb = pd.read_csv('imdb.csv')\n",
    "\n",
    "imdb.shape"
   ]
  },
  {
   "cell_type": "code",
   "execution_count": null,
   "id": "cdfc2944-ae9e-477d-986d-244ea4a45141",
   "metadata": {},
   "outputs": [],
   "source": [
    "imdb.head()"
   ]
  },
  {
   "cell_type": "code",
   "execution_count": 4,
   "id": "ea00628d-4cb2-4e62-b0ae-34729fb31f3e",
   "metadata": {},
   "outputs": [
    {
     "data": {
      "text/plain": [
       "5.0"
      ]
     },
     "execution_count": 4,
     "metadata": {},
     "output_type": "execute_result"
    }
   ],
   "source": [
    "min(imdb['numVotes'])"
   ]
  },
  {
   "cell_type": "code",
   "execution_count": 5,
   "id": "c7bf636c-ff77-4ead-b1ae-da91963d21ae",
   "metadata": {},
   "outputs": [
    {
     "data": {
      "text/plain": [
       "2879745.0"
      ]
     },
     "execution_count": 5,
     "metadata": {},
     "output_type": "execute_result"
    }
   ],
   "source": [
    "max(imdb['numVotes'])"
   ]
  },
  {
   "cell_type": "code",
   "execution_count": 7,
   "id": "b75100f6-bc85-4099-9c74-0121a81ca768",
   "metadata": {},
   "outputs": [
    {
     "data": {
      "text/plain": [
       "1075.8231502235546"
      ]
     },
     "execution_count": 7,
     "metadata": {},
     "output_type": "execute_result"
    }
   ],
   "source": [
    "imdb['numVotes'].mean()"
   ]
  },
  {
   "cell_type": "code",
   "execution_count": 9,
   "id": "9b458fe1-5577-4014-8023-81fd3657b312",
   "metadata": {},
   "outputs": [
    {
     "data": {
      "text/plain": [
       "(81238, 10)"
      ]
     },
     "execution_count": 9,
     "metadata": {},
     "output_type": "execute_result"
    }
   ],
   "source": [
    "imdb_small = imdb.copy().loc[imdb['numVotes']>= 1000]\n",
    "imdb_small.shape"
   ]
  },
  {
   "cell_type": "code",
   "execution_count": 11,
   "id": "07cc9f95-fe45-4630-b6a4-a2e46cb24d6b",
   "metadata": {},
   "outputs": [
    {
     "data": {
      "text/plain": [
       "1.0"
      ]
     },
     "execution_count": 11,
     "metadata": {},
     "output_type": "execute_result"
    }
   ],
   "source": [
    "min(imdb_small['averageRating'])"
   ]
  },
  {
   "cell_type": "code",
   "execution_count": 13,
   "id": "18b363b9-56ab-4e34-8121-72c8bbf19cbe",
   "metadata": {},
   "outputs": [
    {
     "data": {
      "text/plain": [
       "10.0"
      ]
     },
     "execution_count": 13,
     "metadata": {},
     "output_type": "execute_result"
    }
   ],
   "source": [
    "max(imdb_small['averageRating'])"
   ]
  },
  {
   "cell_type": "code",
   "execution_count": null,
   "id": "4b814ff6-de44-4b68-805b-423af677b476",
   "metadata": {
    "scrolled": true
   },
   "outputs": [],
   "source": [
    "imdb_small.head(50)"
   ]
  },
  {
   "cell_type": "code",
   "execution_count": 20,
   "id": "f7013083-bdca-452a-9626-1c8374d0a606",
   "metadata": {},
   "outputs": [
    {
     "data": {
      "text/plain": [
       "(80125, 10)"
      ]
     },
     "execution_count": 20,
     "metadata": {},
     "output_type": "execute_result"
    }
   ],
   "source": [
    "imdb_small.drop_duplicates(subset=['primaryTitle', 'startYear'], keep='last', inplace=True)\n",
    "imdb_small.shape"
   ]
  },
  {
   "cell_type": "code",
   "execution_count": null,
   "id": "96c0f3dd-51bc-42fe-a364-0b8f688f06a0",
   "metadata": {
    "scrolled": true
   },
   "outputs": [],
   "source": [
    "imdb_small.head(30)"
   ]
  },
  {
   "cell_type": "code",
   "execution_count": 22,
   "id": "37ec9209-1155-411b-8b63-e0cd9bd2be28",
   "metadata": {},
   "outputs": [
    {
     "data": {
      "text/plain": [
       "(79029, 10)"
      ]
     },
     "execution_count": 22,
     "metadata": {},
     "output_type": "execute_result"
    }
   ],
   "source": [
    "imdb_small2 = imdb_small[~imdb_small['genres'].apply(lambda x: 'Short' in x)]\n",
    "imdb_small2.shape"
   ]
  },
  {
   "cell_type": "code",
   "execution_count": null,
   "id": "9cde4290-1130-4169-82d9-29127c54132e",
   "metadata": {
    "scrolled": true
   },
   "outputs": [],
   "source": [
    "imdb_small2.head(30)"
   ]
  },
  {
   "cell_type": "code",
   "execution_count": 24,
   "id": "167fd488-e46c-4d2a-a07e-6a3f2ffd5384",
   "metadata": {},
   "outputs": [
    {
     "data": {
      "text/plain": [
       "'1892'"
      ]
     },
     "execution_count": 24,
     "metadata": {},
     "output_type": "execute_result"
    }
   ],
   "source": [
    "min(imdb_small2['startYear'])"
   ]
  },
  {
   "cell_type": "code",
   "execution_count": 25,
   "id": "68cd27ed-3db2-4d6d-82f1-d7819e78f5ac",
   "metadata": {},
   "outputs": [
    {
     "data": {
      "text/plain": [
       "'2024'"
      ]
     },
     "execution_count": 25,
     "metadata": {},
     "output_type": "execute_result"
    }
   ],
   "source": [
    "max(imdb_small2['startYear'])"
   ]
  },
  {
   "cell_type": "code",
   "execution_count": null,
   "id": "942a6916-a237-4cfa-8370-47a5b077b20b",
   "metadata": {},
   "outputs": [],
   "source": [
    "test = imdb_small2.loc[imdb_small2['startYear'] == '2024']\n",
    "test"
   ]
  },
  {
   "cell_type": "code",
   "execution_count": 38,
   "id": "60fa7805-a704-48d4-a9c3-363037e16cba",
   "metadata": {},
   "outputs": [
    {
     "data": {
      "text/plain": [
       "(69461, 10)"
      ]
     },
     "execution_count": 38,
     "metadata": {},
     "output_type": "execute_result"
    }
   ],
   "source": [
    "imdb_small3 = imdb_small2.copy().loc[imdb_small2['startYear'] <= '2020']\n",
    "imdb_small3.shape"
   ]
  },
  {
   "cell_type": "code",
   "execution_count": 42,
   "id": "cf5729d6-0be1-4c8d-abc0-bda515911837",
   "metadata": {},
   "outputs": [
    {
     "data": {
      "text/plain": [
       "(69389, 10)"
      ]
     },
     "execution_count": 42,
     "metadata": {},
     "output_type": "execute_result"
    }
   ],
   "source": [
    "imdb_small3 = imdb_small3.copy().loc[imdb_small3['startYear'] >= '1920']\n",
    "imdb_small3.shape"
   ]
  },
  {
   "cell_type": "code",
   "execution_count": 45,
   "id": "befc6dab-cfa1-4909-9157-51659873d8b0",
   "metadata": {},
   "outputs": [
    {
     "data": {
      "text/plain": [
       "(65672, 10)"
      ]
     },
     "execution_count": 45,
     "metadata": {},
     "output_type": "execute_result"
    }
   ],
   "source": [
    "imdb_small4 = imdb_small3.copy().loc[imdb_small3['startYear'] >= '1960']\n",
    "imdb_small4.shape"
   ]
  },
  {
   "cell_type": "code",
   "execution_count": 46,
   "id": "38d03c06-3dde-4759-bf2a-9e412fc70f36",
   "metadata": {},
   "outputs": [
    {
     "data": {
      "text/plain": [
       "1.0"
      ]
     },
     "execution_count": 46,
     "metadata": {},
     "output_type": "execute_result"
    }
   ],
   "source": [
    "min(imdb_small4['averageRating'])"
   ]
  },
  {
   "cell_type": "code",
   "execution_count": 47,
   "id": "d6b73501-c586-4936-9a49-4d09a3a5ff10",
   "metadata": {},
   "outputs": [
    {
     "data": {
      "text/plain": [
       "10.0"
      ]
     },
     "execution_count": 47,
     "metadata": {},
     "output_type": "execute_result"
    }
   ],
   "source": [
    "max(imdb_small4['averageRating'])"
   ]
  },
  {
   "cell_type": "code",
   "execution_count": 48,
   "id": "0530afff-9268-423d-8302-6c12f2c57498",
   "metadata": {},
   "outputs": [
    {
     "data": {
      "text/plain": [
       "6.949559934218541"
      ]
     },
     "execution_count": 48,
     "metadata": {},
     "output_type": "execute_result"
    }
   ],
   "source": [
    "imdb_small4['averageRating'].mean()"
   ]
  },
  {
   "cell_type": "code",
   "execution_count": 51,
   "id": "8bf67eab-d2bc-4778-83d3-f4bc3589f7fb",
   "metadata": {},
   "outputs": [],
   "source": [
    "# save the dataset if needed\n",
    "imdb_small4.to_csv('imdb_small.csv', index=False)"
   ]
  },
  {
   "cell_type": "markdown",
   "id": "134f6df1-ca4a-48a3-b809-75152e2cefe7",
   "metadata": {},
   "source": [
    "Wikipedia Dataset"
   ]
  },
  {
   "cell_type": "code",
   "execution_count": 16,
   "id": "38132c69-b22a-4f21-9c42-2f6fc4db6d28",
   "metadata": {},
   "outputs": [
    {
     "data": {
      "text/plain": [
       "(1849, 11)"
      ]
     },
     "execution_count": 16,
     "metadata": {},
     "output_type": "execute_result"
    }
   ],
   "source": [
    "# 0 - 3000\n",
    "df_wikipedia = pd.read_csv('imdb_with_plots.csv')\n",
    "df_wikipedia.shape"
   ]
  },
  {
   "cell_type": "code",
   "execution_count": 17,
   "id": "81ddcde9-e9eb-40b1-8951-bcc9b895bfb3",
   "metadata": {},
   "outputs": [
    {
     "data": {
      "text/plain": [
       "(2736, 11)"
      ]
     },
     "execution_count": 17,
     "metadata": {},
     "output_type": "execute_result"
    }
   ],
   "source": [
    "# 3000 - 8000\n",
    "df_wikipedia2 = pd.read_csv('imdb_with_plots2.csv')\n",
    "df_wikipedia2.shape"
   ]
  },
  {
   "cell_type": "code",
   "execution_count": 18,
   "id": "d25b9c7d-cf4b-461d-b7a1-ca0da9136bb6",
   "metadata": {},
   "outputs": [
    {
     "data": {
      "text/plain": [
       "(1126, 11)"
      ]
     },
     "execution_count": 18,
     "metadata": {},
     "output_type": "execute_result"
    }
   ],
   "source": [
    "# 8000 - 10,000\n",
    "df_wikipedia3 = pd.read_csv('imdb_with_plots3.csv')\n",
    "df_wikipedia3.shape"
   ]
  },
  {
   "cell_type": "code",
   "execution_count": 19,
   "id": "bb83fc95-9448-41eb-a699-1ca6e88c125c",
   "metadata": {},
   "outputs": [
    {
     "data": {
      "text/plain": [
       "(2486, 11)"
      ]
     },
     "execution_count": 19,
     "metadata": {},
     "output_type": "execute_result"
    }
   ],
   "source": [
    "# 10,000 - 15,000\n",
    "df_wikipedia4 = pd.read_csv('imdb_with_plots4.csv')\n",
    "df_wikipedia4.shape"
   ]
  },
  {
   "cell_type": "code",
   "execution_count": 20,
   "id": "bdff4cde-3a56-4e6b-bb67-af67846740da",
   "metadata": {},
   "outputs": [
    {
     "data": {
      "text/plain": [
       "(1494, 11)"
      ]
     },
     "execution_count": 20,
     "metadata": {},
     "output_type": "execute_result"
    }
   ],
   "source": [
    "# 15,000 - 18,000\n",
    "df_wikipedia5 = pd.read_csv('imdb_with_plots18.csv')\n",
    "df_wikipedia5.shape"
   ]
  },
  {
   "cell_type": "code",
   "execution_count": 21,
   "id": "68dbba92-bf01-4a1f-9cac-01819dec2d5e",
   "metadata": {},
   "outputs": [
    {
     "data": {
      "text/plain": [
       "(969, 11)"
      ]
     },
     "execution_count": 21,
     "metadata": {},
     "output_type": "execute_result"
    }
   ],
   "source": [
    "# 18,000 - 20,000\n",
    "df_wikipedia6 = pd.read_csv('imdb_with_plots20.csv')\n",
    "df_wikipedia6.shape"
   ]
  },
  {
   "cell_type": "code",
   "execution_count": 22,
   "id": "59011ff9-7613-4a35-9509-167847d9bb76",
   "metadata": {},
   "outputs": [
    {
     "data": {
      "text/plain": [
       "(1711, 11)"
      ]
     },
     "execution_count": 22,
     "metadata": {},
     "output_type": "execute_result"
    }
   ],
   "source": [
    "# 20,000 - 25,000\n",
    "df_wikipedia7 = pd.read_csv('imdb_with_plots25.csv')\n",
    "df_wikipedia7.shape"
   ]
  },
  {
   "cell_type": "code",
   "execution_count": 23,
   "id": "c506e7f7-bb75-4e50-b1a7-61192c74a5e0",
   "metadata": {},
   "outputs": [
    {
     "data": {
      "text/plain": [
       "(1657, 11)"
      ]
     },
     "execution_count": 23,
     "metadata": {},
     "output_type": "execute_result"
    }
   ],
   "source": [
    "df_wikipedia8 = pd.read_csv('imdb_with_plots30.csv')\n",
    "df_wikipedia8.shape"
   ]
  },
  {
   "cell_type": "code",
   "execution_count": 24,
   "id": "290c8647-ea2c-4b57-bc79-03d90d43f89c",
   "metadata": {},
   "outputs": [
    {
     "data": {
      "text/plain": [
       "(1596, 11)"
      ]
     },
     "execution_count": 24,
     "metadata": {},
     "output_type": "execute_result"
    }
   ],
   "source": [
    "df_wikipedia9 = pd.read_csv('imdb_with_plots35.csv')\n",
    "df_wikipedia9.shape"
   ]
  },
  {
   "cell_type": "code",
   "execution_count": 25,
   "id": "a4001ecb-e43e-4196-bd34-7137f59b0273",
   "metadata": {},
   "outputs": [
    {
     "data": {
      "text/plain": [
       "(1075, 11)"
      ]
     },
     "execution_count": 25,
     "metadata": {},
     "output_type": "execute_result"
    }
   ],
   "source": [
    "df_wikipedia10 = pd.read_csv('imdb_with_plot38.csv')\n",
    "df_wikipedia10.shape"
   ]
  },
  {
   "cell_type": "code",
   "execution_count": 26,
   "id": "52b52da1-f3d1-4423-8bfa-7a6170e1e0bc",
   "metadata": {},
   "outputs": [
    {
     "data": {
      "text/plain": [
       "(767, 11)"
      ]
     },
     "execution_count": 26,
     "metadata": {},
     "output_type": "execute_result"
    }
   ],
   "source": [
    "df_wikipedia11 = pd.read_csv('imdb_with_plot40.csv')\n",
    "df_wikipedia11.shape"
   ]
  },
  {
   "cell_type": "code",
   "execution_count": 27,
   "id": "629c5ca5-9e0b-4b21-b9a9-07f539200f18",
   "metadata": {},
   "outputs": [
    {
     "data": {
      "text/plain": [
       "(1878, 11)"
      ]
     },
     "execution_count": 27,
     "metadata": {},
     "output_type": "execute_result"
    }
   ],
   "source": [
    "df_wikipedia12 = pd.read_csv('imdb_with_plot45.csv')\n",
    "df_wikipedia12.shape"
   ]
  },
  {
   "cell_type": "code",
   "execution_count": 28,
   "id": "92440590-ca78-43a8-bff7-676bb53211d7",
   "metadata": {},
   "outputs": [
    {
     "data": {
      "text/plain": [
       "(1605, 11)"
      ]
     },
     "execution_count": 28,
     "metadata": {},
     "output_type": "execute_result"
    }
   ],
   "source": [
    "df_wikipedia13 = pd.read_csv('imdb_with_plot50.csv')\n",
    "df_wikipedia13.shape"
   ]
  },
  {
   "cell_type": "code",
   "execution_count": 29,
   "id": "cd2736bd-8ebc-4a7b-a148-23df0b353254",
   "metadata": {},
   "outputs": [
    {
     "data": {
      "text/plain": [
       "(521, 11)"
      ]
     },
     "execution_count": 29,
     "metadata": {},
     "output_type": "execute_result"
    }
   ],
   "source": [
    "df_wikipedia14 = pd.read_csv('imdb_with_plot55.csv')\n",
    "df_wikipedia14.shape"
   ]
  },
  {
   "cell_type": "code",
   "execution_count": 30,
   "id": "bb154177-3351-4cae-b679-e6a24e98a9a2",
   "metadata": {},
   "outputs": [
    {
     "data": {
      "text/plain": [
       "(1420, 11)"
      ]
     },
     "execution_count": 30,
     "metadata": {},
     "output_type": "execute_result"
    }
   ],
   "source": [
    "df_wikipedia15 = pd.read_csv('imdb_with_plot60.csv')\n",
    "df_wikipedia15.shape"
   ]
  },
  {
   "cell_type": "code",
   "execution_count": 31,
   "id": "ff22e4ad-e9ab-4837-b202-73f0fd07ee15",
   "metadata": {},
   "outputs": [
    {
     "data": {
      "text/plain": [
       "(1514, 11)"
      ]
     },
     "execution_count": 31,
     "metadata": {},
     "output_type": "execute_result"
    }
   ],
   "source": [
    "df_wikipedia16 = pd.read_csv('imdb_with_plot65.csv')\n",
    "df_wikipedia16.shape"
   ]
  },
  {
   "cell_type": "code",
   "execution_count": 3,
   "id": "bb3343df-ad03-446f-9df1-78e3fe6cc739",
   "metadata": {},
   "outputs": [
    {
     "data": {
      "text/plain": [
       "(65672, 10)"
      ]
     },
     "execution_count": 3,
     "metadata": {},
     "output_type": "execute_result"
    }
   ],
   "source": [
    "test = pd.read_csv('imdb_small.csv')\n",
    "test.shape"
   ]
  },
  {
   "cell_type": "code",
   "execution_count": 4,
   "id": "cb25e498-6d6f-4c60-a465-c15b373e1ac7",
   "metadata": {},
   "outputs": [
    {
     "data": {
      "text/html": [
       "<div>\n",
       "<style scoped>\n",
       "    .dataframe tbody tr th:only-of-type {\n",
       "        vertical-align: middle;\n",
       "    }\n",
       "\n",
       "    .dataframe tbody tr th {\n",
       "        vertical-align: top;\n",
       "    }\n",
       "\n",
       "    .dataframe thead th {\n",
       "        text-align: right;\n",
       "    }\n",
       "</style>\n",
       "<table border=\"1\" class=\"dataframe\">\n",
       "  <thead>\n",
       "    <tr style=\"text-align: right;\">\n",
       "      <th></th>\n",
       "      <th>tconst</th>\n",
       "      <th>titleType</th>\n",
       "      <th>primaryTitle</th>\n",
       "      <th>originalTitle</th>\n",
       "      <th>startYear</th>\n",
       "      <th>runtimeMinutes</th>\n",
       "      <th>genres</th>\n",
       "      <th>averageRating</th>\n",
       "      <th>numVotes</th>\n",
       "      <th>directors</th>\n",
       "    </tr>\n",
       "  </thead>\n",
       "  <tbody>\n",
       "    <tr>\n",
       "      <th>0</th>\n",
       "      <td>tt0035423</td>\n",
       "      <td>movie</td>\n",
       "      <td>Kate &amp; Leopold</td>\n",
       "      <td>Kate &amp; Leopold</td>\n",
       "      <td>2001</td>\n",
       "      <td>118</td>\n",
       "      <td>Comedy,Fantasy,Romance</td>\n",
       "      <td>6.4</td>\n",
       "      <td>88958.0</td>\n",
       "      <td>nm0003506</td>\n",
       "    </tr>\n",
       "    <tr>\n",
       "      <th>1</th>\n",
       "      <td>tt0038687</td>\n",
       "      <td>movie</td>\n",
       "      <td>Let There Be Light</td>\n",
       "      <td>Let There Be Light</td>\n",
       "      <td>1980</td>\n",
       "      <td>58</td>\n",
       "      <td>Documentary,War</td>\n",
       "      <td>7.4</td>\n",
       "      <td>2022.0</td>\n",
       "      <td>nm0001379</td>\n",
       "    </tr>\n",
       "    <tr>\n",
       "      <th>2</th>\n",
       "      <td>tt0052338</td>\n",
       "      <td>movie</td>\n",
       "      <td>A Story of Water</td>\n",
       "      <td>Une histoire d'eau</td>\n",
       "      <td>1961</td>\n",
       "      <td>12</td>\n",
       "      <td>Adventure,Comedy,Romance</td>\n",
       "      <td>6.5</td>\n",
       "      <td>1679.0</td>\n",
       "      <td>nm0000419,nm0000076</td>\n",
       "    </tr>\n",
       "    <tr>\n",
       "      <th>3</th>\n",
       "      <td>tt0052607</td>\n",
       "      <td>movie</td>\n",
       "      <td>The Battle of the Sexes</td>\n",
       "      <td>The Battle of the Sexes</td>\n",
       "      <td>1960</td>\n",
       "      <td>84</td>\n",
       "      <td>Comedy</td>\n",
       "      <td>6.6</td>\n",
       "      <td>1727.0</td>\n",
       "      <td>nm0187769</td>\n",
       "    </tr>\n",
       "    <tr>\n",
       "      <th>4</th>\n",
       "      <td>tt0052646</td>\n",
       "      <td>movie</td>\n",
       "      <td>The Brain That Wouldn't Die</td>\n",
       "      <td>The Brain That Wouldn't Die</td>\n",
       "      <td>1962</td>\n",
       "      <td>82</td>\n",
       "      <td>Horror,Sci-Fi</td>\n",
       "      <td>4.5</td>\n",
       "      <td>7563.0</td>\n",
       "      <td>nm0338018</td>\n",
       "    </tr>\n",
       "  </tbody>\n",
       "</table>\n",
       "</div>"
      ],
      "text/plain": [
       "      tconst titleType                 primaryTitle  \\\n",
       "0  tt0035423     movie               Kate & Leopold   \n",
       "1  tt0038687     movie           Let There Be Light   \n",
       "2  tt0052338     movie             A Story of Water   \n",
       "3  tt0052607     movie      The Battle of the Sexes   \n",
       "4  tt0052646     movie  The Brain That Wouldn't Die   \n",
       "\n",
       "                 originalTitle  startYear runtimeMinutes  \\\n",
       "0               Kate & Leopold       2001            118   \n",
       "1           Let There Be Light       1980             58   \n",
       "2           Une histoire d'eau       1961             12   \n",
       "3      The Battle of the Sexes       1960             84   \n",
       "4  The Brain That Wouldn't Die       1962             82   \n",
       "\n",
       "                     genres  averageRating  numVotes            directors  \n",
       "0    Comedy,Fantasy,Romance            6.4   88958.0            nm0003506  \n",
       "1           Documentary,War            7.4    2022.0            nm0001379  \n",
       "2  Adventure,Comedy,Romance            6.5    1679.0  nm0000419,nm0000076  \n",
       "3                    Comedy            6.6    1727.0            nm0187769  \n",
       "4             Horror,Sci-Fi            4.5    7563.0            nm0338018  "
      ]
     },
     "execution_count": 4,
     "metadata": {},
     "output_type": "execute_result"
    }
   ],
   "source": [
    "test.head()"
   ]
  },
  {
   "cell_type": "code",
   "execution_count": null,
   "id": "094f86e1-4f5e-4585-bd5c-4aef23e91081",
   "metadata": {},
   "outputs": [],
   "source": [
    "# combine all datasets into one\n",
    "wikipedias = [df_wikipedia, df_wikipedia2, df_wikipedia3, df_wikipedia4, df_wikipedia5, df_wikipedia6, df_wikipedia7, df_wikipedia8, df_wikipedia9, df_wikipedia10, df_wikipedia11, df_wikipedia12, df_wikipedia13, df_wikipedia14, df_wikipedia15, df_wikipedia16]\n",
    "imdb_with_plots = pd.concat(wikipedias)\n",
    "imdb_with_plots.head()"
   ]
  },
  {
   "cell_type": "code",
   "execution_count": 34,
   "id": "f1fae8a5-13b9-40f2-8915-822702925419",
   "metadata": {},
   "outputs": [
    {
     "data": {
      "text/plain": [
       "(24404, 11)"
      ]
     },
     "execution_count": 34,
     "metadata": {},
     "output_type": "execute_result"
    }
   ],
   "source": [
    "imdb_with_plots.shape"
   ]
  },
  {
   "cell_type": "code",
   "execution_count": null,
   "id": "dcf6bc23-bc5b-4cf2-8768-57a5087dc927",
   "metadata": {},
   "outputs": [],
   "source": [
    "# double check that data is clean\n",
    "print(imdb_with_plots.isna().sum())\n",
    "imdb_with_plots.dropna()\n",
    "\n",
    "imdb_with_plots.isna().sum()"
   ]
  }
 ],
 "metadata": {
  "kernelspec": {
   "display_name": "Python 3 (ipykernel)",
   "language": "python",
   "name": "python3"
  },
  "language_info": {
   "codemirror_mode": {
    "name": "ipython",
    "version": 3
   },
   "file_extension": ".py",
   "mimetype": "text/x-python",
   "name": "python",
   "nbconvert_exporter": "python",
   "pygments_lexer": "ipython3",
   "version": "3.10.7"
  }
 },
 "nbformat": 4,
 "nbformat_minor": 5
}
