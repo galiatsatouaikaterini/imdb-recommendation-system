{
 "cells": [
  {
   "cell_type": "code",
   "execution_count": 1,
   "id": "01eaa6be-b874-4049-b66d-5468c36b0f90",
   "metadata": {},
   "outputs": [],
   "source": [
    "import pandas as pd\n",
    "import numpy as np"
   ]
  },
  {
   "cell_type": "code",
   "execution_count": 2,
   "id": "6dcf1ae3-c382-4413-9d3a-3a60d291629e",
   "metadata": {},
   "outputs": [
    {
     "data": {
      "text/html": [
       "<div>\n",
       "<style scoped>\n",
       "    .dataframe tbody tr th:only-of-type {\n",
       "        vertical-align: middle;\n",
       "    }\n",
       "\n",
       "    .dataframe tbody tr th {\n",
       "        vertical-align: top;\n",
       "    }\n",
       "\n",
       "    .dataframe thead th {\n",
       "        text-align: right;\n",
       "    }\n",
       "</style>\n",
       "<table border=\"1\" class=\"dataframe\">\n",
       "  <thead>\n",
       "    <tr style=\"text-align: right;\">\n",
       "      <th></th>\n",
       "      <th>userID</th>\n",
       "      <th>movieID</th>\n",
       "      <th>rating</th>\n",
       "    </tr>\n",
       "  </thead>\n",
       "  <tbody>\n",
       "    <tr>\n",
       "      <th>0</th>\n",
       "      <td>user_0</td>\n",
       "      <td>tt0069515</td>\n",
       "      <td>3.4</td>\n",
       "    </tr>\n",
       "    <tr>\n",
       "      <th>1</th>\n",
       "      <td>user_0</td>\n",
       "      <td>tt0464913</td>\n",
       "      <td>3.5</td>\n",
       "    </tr>\n",
       "    <tr>\n",
       "      <th>2</th>\n",
       "      <td>user_0</td>\n",
       "      <td>tt0168371</td>\n",
       "      <td>2.7</td>\n",
       "    </tr>\n",
       "    <tr>\n",
       "      <th>3</th>\n",
       "      <td>user_0</td>\n",
       "      <td>tt0946642</td>\n",
       "      <td>2.5</td>\n",
       "    </tr>\n",
       "    <tr>\n",
       "      <th>4</th>\n",
       "      <td>user_0</td>\n",
       "      <td>tt0283534</td>\n",
       "      <td>3.5</td>\n",
       "    </tr>\n",
       "  </tbody>\n",
       "</table>\n",
       "</div>"
      ],
      "text/plain": [
       "   userID    movieID  rating\n",
       "0  user_0  tt0069515     3.4\n",
       "1  user_0  tt0464913     3.5\n",
       "2  user_0  tt0168371     2.7\n",
       "3  user_0  tt0946642     2.5\n",
       "4  user_0  tt0283534     3.5"
      ]
     },
     "execution_count": 2,
     "metadata": {},
     "output_type": "execute_result"
    }
   ],
   "source": [
    "df = pd.read_csv('user_movie_ratings.csv')\n",
    "df.head()"
   ]
  },
  {
   "cell_type": "code",
   "execution_count": 3,
   "id": "3a0d7b96-0143-40e2-b2f1-34173790ee73",
   "metadata": {},
   "outputs": [],
   "source": [
    "df_users = df.copy()"
   ]
  },
  {
   "cell_type": "code",
   "execution_count": 4,
   "id": "ddbbf73d-19e1-47cb-bffe-f0fb64194c2d",
   "metadata": {},
   "outputs": [
    {
     "data": {
      "text/plain": [
       "(271407, 3)"
      ]
     },
     "execution_count": 4,
     "metadata": {},
     "output_type": "execute_result"
    }
   ],
   "source": [
    "df_users.shape"
   ]
  },
  {
   "cell_type": "code",
   "execution_count": 5,
   "id": "cbda8203-4c1f-4288-b2e0-5fcb9b9e0871",
   "metadata": {},
   "outputs": [
    {
     "data": {
      "text/plain": [
       "userID     0\n",
       "movieID    0\n",
       "rating     0\n",
       "dtype: int64"
      ]
     },
     "execution_count": 5,
     "metadata": {},
     "output_type": "execute_result"
    }
   ],
   "source": [
    "df_users.isna().sum()"
   ]
  },
  {
   "cell_type": "markdown",
   "id": "e1e4e6ab-aee4-4642-b0de-e21ba1ab6d5c",
   "metadata": {},
   "source": [
    "=> no NaN"
   ]
  },
  {
   "cell_type": "code",
   "execution_count": 6,
   "id": "dd5ece91-acd0-42bf-aa4e-dd11dfd2c13e",
   "metadata": {},
   "outputs": [
    {
     "data": {
      "text/plain": [
       "[1.0,\n",
       " 1.1,\n",
       " 1.2,\n",
       " 1.2000000000000002,\n",
       " 1.2999999999999998,\n",
       " 1.3,\n",
       " 1.3000000000000005,\n",
       " 1.4,\n",
       " 1.4999999999999998,\n",
       " 1.5,\n",
       " 1.5000000000000002,\n",
       " 1.6,\n",
       " 1.6999999999999995,\n",
       " 1.7,\n",
       " 1.7000000000000002,\n",
       " 1.7999999999999998,\n",
       " 1.8,\n",
       " 1.8000000000000005,\n",
       " 1.9,\n",
       " 2.0,\n",
       " 2.1,\n",
       " 2.2,\n",
       " 2.3,\n",
       " 2.3000000000000003,\n",
       " 2.4,\n",
       " 2.4000000000000004,\n",
       " 2.5,\n",
       " 2.6,\n",
       " 2.7,\n",
       " 2.8,\n",
       " 2.8000000000000003,\n",
       " 2.9,\n",
       " 2.9000000000000004,\n",
       " 3.0,\n",
       " 3.1,\n",
       " 3.2,\n",
       " 3.3,\n",
       " 3.3000000000000003,\n",
       " 3.3999999999999995,\n",
       " 3.4,\n",
       " 3.4000000000000004,\n",
       " 3.5,\n",
       " 3.5000000000000004,\n",
       " 3.6,\n",
       " 3.6000000000000005,\n",
       " 3.7,\n",
       " 3.8,\n",
       " 3.9,\n",
       " 4.0,\n",
       " 4.1,\n",
       " 4.1000000000000005,\n",
       " 4.199999999999999,\n",
       " 4.2,\n",
       " 4.3,\n",
       " 4.300000000000001,\n",
       " 4.4,\n",
       " 4.5,\n",
       " 4.6,\n",
       " 4.6000000000000005,\n",
       " 4.699999999999999,\n",
       " 4.7,\n",
       " 4.8,\n",
       " 4.800000000000001,\n",
       " 4.9,\n",
       " 5.0,\n",
       " 5.1,\n",
       " 5.1000000000000005,\n",
       " 5.199999999999999,\n",
       " 5.2,\n",
       " 5.3,\n",
       " 5.300000000000001,\n",
       " 5.4,\n",
       " 5.5,\n",
       " 5.6,\n",
       " 5.6000000000000005,\n",
       " 5.699999999999999,\n",
       " 5.7,\n",
       " 5.8,\n",
       " 5.800000000000001,\n",
       " 5.9,\n",
       " 6.0,\n",
       " 6.1,\n",
       " 6.1000000000000005,\n",
       " 6.199999999999999,\n",
       " 6.2,\n",
       " 6.3,\n",
       " 6.300000000000001,\n",
       " 6.4,\n",
       " 6.5,\n",
       " 6.6,\n",
       " 6.6000000000000005,\n",
       " 6.699999999999999,\n",
       " 6.7,\n",
       " 6.8,\n",
       " 6.800000000000001,\n",
       " 6.9,\n",
       " 7.0,\n",
       " 7.1,\n",
       " 7.1000000000000005,\n",
       " 7.199999999999999,\n",
       " 7.2,\n",
       " 7.299999999999999,\n",
       " 7.3,\n",
       " 7.300000000000001,\n",
       " 7.399999999999999,\n",
       " 7.4,\n",
       " 7.499999999999999,\n",
       " 7.5,\n",
       " 7.500000000000001,\n",
       " 7.6,\n",
       " 7.699999999999999,\n",
       " 7.7,\n",
       " 7.700000000000001,\n",
       " 7.799999999999999,\n",
       " 7.8,\n",
       " 7.800000000000001,\n",
       " 7.899999999999999,\n",
       " 7.9,\n",
       " 7.999999999999999,\n",
       " 8.0,\n",
       " 8.1,\n",
       " 8.100000000000001,\n",
       " 8.2,\n",
       " 8.200000000000001,\n",
       " 8.299999999999999,\n",
       " 8.3,\n",
       " 8.399999999999999,\n",
       " 8.4,\n",
       " 8.5,\n",
       " 8.6,\n",
       " 8.600000000000001,\n",
       " 8.7,\n",
       " 8.700000000000001,\n",
       " 8.799999999999999,\n",
       " 8.8,\n",
       " 8.899999999999999,\n",
       " 8.9,\n",
       " 9.0,\n",
       " 9.1,\n",
       " 9.2,\n",
       " 9.3,\n",
       " 9.4,\n",
       " 9.5,\n",
       " 9.6,\n",
       " 9.7,\n",
       " 9.8,\n",
       " 9.9,\n",
       " 10.0]"
      ]
     },
     "execution_count": 6,
     "metadata": {},
     "output_type": "execute_result"
    }
   ],
   "source": [
    "sorted(df_users['rating'].unique())"
   ]
  },
  {
   "cell_type": "code",
   "execution_count": 7,
   "id": "5e25b6f5-6333-45d2-8679-87f3700f427f",
   "metadata": {},
   "outputs": [
    {
     "data": {
      "text/plain": [
       "[1.0,\n",
       " 1.1,\n",
       " 1.2,\n",
       " 1.3,\n",
       " 1.4,\n",
       " 1.5,\n",
       " 1.6,\n",
       " 1.7,\n",
       " 1.8,\n",
       " 1.9,\n",
       " 2.0,\n",
       " 2.1,\n",
       " 2.2,\n",
       " 2.3,\n",
       " 2.4,\n",
       " 2.5,\n",
       " 2.6,\n",
       " 2.7,\n",
       " 2.8,\n",
       " 2.9,\n",
       " 3.0,\n",
       " 3.1,\n",
       " 3.2,\n",
       " 3.3,\n",
       " 3.4,\n",
       " 3.5,\n",
       " 3.6,\n",
       " 3.7,\n",
       " 3.8,\n",
       " 3.9,\n",
       " 4.0,\n",
       " 4.1,\n",
       " 4.2,\n",
       " 4.3,\n",
       " 4.4,\n",
       " 4.5,\n",
       " 4.6,\n",
       " 4.7,\n",
       " 4.8,\n",
       " 4.9,\n",
       " 5.0,\n",
       " 5.1,\n",
       " 5.2,\n",
       " 5.3,\n",
       " 5.4,\n",
       " 5.5,\n",
       " 5.6,\n",
       " 5.7,\n",
       " 5.8,\n",
       " 5.9,\n",
       " 6.0,\n",
       " 6.1,\n",
       " 6.2,\n",
       " 6.3,\n",
       " 6.4,\n",
       " 6.5,\n",
       " 6.6,\n",
       " 6.7,\n",
       " 6.8,\n",
       " 6.9,\n",
       " 7.0,\n",
       " 7.1,\n",
       " 7.2,\n",
       " 7.3,\n",
       " 7.4,\n",
       " 7.5,\n",
       " 7.6,\n",
       " 7.7,\n",
       " 7.8,\n",
       " 7.9,\n",
       " 8.0,\n",
       " 8.1,\n",
       " 8.2,\n",
       " 8.3,\n",
       " 8.4,\n",
       " 8.5,\n",
       " 8.6,\n",
       " 8.7,\n",
       " 8.8,\n",
       " 8.9,\n",
       " 9.0,\n",
       " 9.1,\n",
       " 9.2,\n",
       " 9.3,\n",
       " 9.4,\n",
       " 9.5,\n",
       " 9.6,\n",
       " 9.7,\n",
       " 9.8,\n",
       " 9.9,\n",
       " 10.0]"
      ]
     },
     "execution_count": 7,
     "metadata": {},
     "output_type": "execute_result"
    }
   ],
   "source": [
    "# ratings should be between 1-10 and only have 1 decimal\n",
    "\n",
    "# round the rating column to one decimal\n",
    "df_users['rating'] = df_users['rating'].round(1)\n",
    "sorted(df_users['rating'].unique())"
   ]
  },
  {
   "cell_type": "code",
   "execution_count": 8,
   "id": "ac7edac0-4b62-4d65-9e69-8c1f383a05bf",
   "metadata": {},
   "outputs": [
    {
     "data": {
      "text/plain": [
       "rating\n",
       "1.0     7235\n",
       "10.0    7142\n",
       "6.6     3155\n",
       "6.0     3140\n",
       "2.9     3128\n",
       "        ... \n",
       "1.3     2103\n",
       "9.8     2092\n",
       "1.2     2006\n",
       "1.1     1907\n",
       "9.9     1884\n",
       "Name: count, Length: 91, dtype: int64"
      ]
     },
     "execution_count": 8,
     "metadata": {},
     "output_type": "execute_result"
    }
   ],
   "source": [
    "df_users['rating'].value_counts()"
   ]
  },
  {
   "cell_type": "code",
   "execution_count": 9,
   "id": "4daa84f9-b915-46d7-9b8e-9814012bc2c5",
   "metadata": {},
   "outputs": [],
   "source": [
    "# a lot of movies are rated 1.0 or 10.0 so I'll change 2000 values each\n",
    "# 1.0\n",
    "indices = df_users[df_users['rating'] == 1.0].index\n",
    "indices_change = np.random.choice(indices, 2000, replace = False)\n",
    "new_rating = np.random.choice([1.1, 1.2, 1.3], 2000)\n",
    "df_users.loc[indices_change, 'rating'] = new_rating\n",
    "\n",
    "# 10.0\n",
    "indices2 = df_users[df_users['rating'] == 10.0].index\n",
    "indices_change2 = np.random.choice(indices2, 2000, replace = False)\n",
    "new_rating2 = np.random.choice([9.9, 9.8, 9.7], 2000)\n",
    "df_users.loc[indices_change2, 'rating'] = new_rating2"
   ]
  },
  {
   "cell_type": "code",
   "execution_count": 10,
   "id": "3d4c4011-9a9a-454d-b7fb-224078d9855c",
   "metadata": {},
   "outputs": [
    {
     "data": {
      "text/plain": [
       "rating\n",
       "1.0     5235\n",
       "10.0    5142\n",
       "6.6     3155\n",
       "6.0     3140\n",
       "2.9     3128\n",
       "        ... \n",
       "9.4     2522\n",
       "1.5     2435\n",
       "9.5     2395\n",
       "1.4     2244\n",
       "9.6     2224\n",
       "Name: count, Length: 91, dtype: int64"
      ]
     },
     "execution_count": 10,
     "metadata": {},
     "output_type": "execute_result"
    }
   ],
   "source": [
    "df_users['rating'].value_counts()"
   ]
  },
  {
   "cell_type": "code",
   "execution_count": null,
   "id": "3692ee0f-869d-434f-b519-1b4a387936c1",
   "metadata": {},
   "outputs": [],
   "source": []
  }
 ],
 "metadata": {
  "kernelspec": {
   "display_name": "Python 3 (ipykernel)",
   "language": "python",
   "name": "python3"
  },
  "language_info": {
   "codemirror_mode": {
    "name": "ipython",
    "version": 3
   },
   "file_extension": ".py",
   "mimetype": "text/x-python",
   "name": "python",
   "nbconvert_exporter": "python",
   "pygments_lexer": "ipython3",
   "version": "3.10.7"
  }
 },
 "nbformat": 4,
 "nbformat_minor": 5
}
